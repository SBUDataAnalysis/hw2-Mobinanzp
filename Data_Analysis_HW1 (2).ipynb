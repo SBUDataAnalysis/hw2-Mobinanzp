{
  "cells": [
    {
      "cell_type": "markdown",
      "metadata": {
        "id": "JkGsB1J56srt"
      },
      "source": [
        "# Random Walk\n"
      ]
    },
    {
      "cell_type": "markdown",
      "metadata": {
        "id": "e4kQ0tKh6srv"
      },
      "source": [
        "As a physics student sometimes you see some random movement in nature like brownian motion(it's actually deterministic). we can use stochastic litrature to study brownian motion and find lots of valuable information about this process. Random walk is somehow one of the most instructive models that can help you understand how random process can model the nature."
      ]
    },
    {
      "cell_type": "markdown",
      "metadata": {
        "id": "D9tv36Mv6srw"
      },
      "source": [
        "for the beging let's see what random walk is. according to Wikipedia(https://en.wikipedia.org/wiki/Random_walk) random walk is a mathematical object, known as a stochastic or random process, that describes a path that consists of a succession of random steps on some mathematical space such as the integers.\n",
        "\n",
        "An elementary example of a random walk is the random walk on the integer number line, ${\\displaystyle \\mathbb {Z} }$ , which starts at 0 and at each step moves +1 or −1 with equal probability. Other examples include the path traced by a molecule as it travels in a liquid or a gas (see Brownian motion), the search path of a foraging animal, the price of a fluctuating stock and the financial status of a gambler: all can be approximated by random walk models, even though they may not be truly random in reality."
      ]
    },
    {
      "cell_type": "markdown",
      "metadata": {
        "id": "8sK0YxvW6srx"
      },
      "source": [
        "We know that you are passionate and want to explore all details of these process(joke :) ) but for the begining let's start with the simplest model, one dimensional random walk with same probability for right and left step."
      ]
    },
    {
      "cell_type": "markdown",
      "metadata": {
        "id": "gBIztNxL6sry"
      },
      "source": [
        "1. the simplest model of random walk is a One-dimensional random walk, which starts at 0 and at each step moves +1 or −1 with equal probability. consider 10000_step 1d random walk. and use $10^5$ ensemble. in each ensemble begin from the origin(0) and record the endpoint at 10000th step. plot the PDF of these endpoints. also, calculate the first four moments of this PDF."
      ]
    },
    {
      "cell_type": "code",
      "execution_count": null,
      "metadata": {
        "id": "E6j3LIJg6sr0",
        "outputId": "7074cbb0-e7f7-461f-f3ca-5b1f435f2042",
        "colab": {
          "base_uri": "https://localhost:8080/",
          "height": 803
        }
      },
      "outputs": [
        {
          "output_type": "execute_result",
          "data": {
            "text/plain": [
              "(array([1.000e+00, 0.000e+00, 0.000e+00, 0.000e+00, 1.000e+00, 1.000e+00,\n",
              "        1.000e+00, 0.000e+00, 2.000e+00, 2.000e+00, 4.000e+00, 1.100e+01,\n",
              "        6.000e+00, 1.000e+01, 1.100e+01, 2.200e+01, 2.300e+01, 5.900e+01,\n",
              "        4.000e+01, 5.300e+01, 7.800e+01, 8.100e+01, 1.310e+02, 1.250e+02,\n",
              "        1.320e+02, 2.560e+02, 2.470e+02, 2.950e+02, 4.310e+02, 4.160e+02,\n",
              "        5.070e+02, 7.250e+02, 7.250e+02, 8.140e+02, 1.222e+03, 1.101e+03,\n",
              "        1.194e+03, 1.701e+03, 1.507e+03, 1.704e+03, 2.318e+03, 2.019e+03,\n",
              "        2.741e+03, 2.415e+03, 2.583e+03, 3.296e+03, 2.746e+03, 2.817e+03,\n",
              "        3.801e+03, 3.072e+03, 3.148e+03, 3.934e+03, 3.260e+03, 3.138e+03,\n",
              "        3.936e+03, 3.156e+03, 2.996e+03, 3.597e+03, 2.817e+03, 2.715e+03,\n",
              "        3.126e+03, 2.353e+03, 2.721e+03, 1.936e+03, 1.828e+03, 2.093e+03,\n",
              "        1.501e+03, 1.332e+03, 1.510e+03, 1.038e+03, 9.850e+02, 9.700e+02,\n",
              "        7.000e+02, 6.170e+02, 6.200e+02, 4.310e+02, 3.780e+02, 4.010e+02,\n",
              "        2.520e+02, 2.360e+02, 1.970e+02, 1.270e+02, 1.200e+02, 7.300e+01,\n",
              "        7.000e+01, 5.400e+01, 4.800e+01, 3.900e+01, 3.500e+01, 1.100e+01,\n",
              "        1.500e+01, 1.000e+01, 4.000e+00, 1.000e+01, 3.000e+00, 5.000e+00,\n",
              "        0.000e+00, 3.000e+00, 3.000e+00, 1.000e+00]),\n",
              " array([-456. , -447.3, -438.6, -429.9, -421.2, -412.5, -403.8, -395.1,\n",
              "        -386.4, -377.7, -369. , -360.3, -351.6, -342.9, -334.2, -325.5,\n",
              "        -316.8, -308.1, -299.4, -290.7, -282. , -273.3, -264.6, -255.9,\n",
              "        -247.2, -238.5, -229.8, -221.1, -212.4, -203.7, -195. , -186.3,\n",
              "        -177.6, -168.9, -160.2, -151.5, -142.8, -134.1, -125.4, -116.7,\n",
              "        -108. ,  -99.3,  -90.6,  -81.9,  -73.2,  -64.5,  -55.8,  -47.1,\n",
              "         -38.4,  -29.7,  -21. ,  -12.3,   -3.6,    5.1,   13.8,   22.5,\n",
              "          31.2,   39.9,   48.6,   57.3,   66. ,   74.7,   83.4,   92.1,\n",
              "         100.8,  109.5,  118.2,  126.9,  135.6,  144.3,  153. ,  161.7,\n",
              "         170.4,  179.1,  187.8,  196.5,  205.2,  213.9,  222.6,  231.3,\n",
              "         240. ,  248.7,  257.4,  266.1,  274.8,  283.5,  292.2,  300.9,\n",
              "         309.6,  318.3,  327. ,  335.7,  344.4,  353.1,  361.8,  370.5,\n",
              "         379.2,  387.9,  396.6,  405.3,  414. ]),\n",
              " <a list of 100 Patch objects>)"
            ]
          },
          "metadata": {},
          "execution_count": 7
        },
        {
          "output_type": "display_data",
          "data": {
            "text/plain": [
              "<Figure size 432x288 with 1 Axes>"
            ],
            "image/png": "[encoded data removed]"
          },
          "metadata": {
            "needs_background": "light"
          }
        }
      ],
      "source": [
        "import numpy as np\n",
        "\n",
        "def one_dim_random(steps, ensembles):\n",
        "    ens_list = []\n",
        "    for ens in range (ensembles):\n",
        "\n",
        "        step = 2 * np.random.randint(0,2,size = (steps)) -1\n",
        "        endpoint = np.sum(step)\n",
        "        ens_list.append(endpoint)\n",
        "      \n",
        "    return ens_list  \n",
        "\n",
        "import matplotlib.pyplot as plt\n",
        "\n",
        "plt.hist(one_dim_random(10000, 100000), bins = 100,color =\"pink\")"
      ]
    },
    {
      "cell_type": "markdown",
      "metadata": {
        "id": "qubyFEsS6sr4"
      },
      "source": [
        "now look at the plot you create. does it looklike a normal distribution? if yes isn't it strange cause we know that the probability is bionomial not guassian.\n"
      ]
    },
    {
      "cell_type": "code",
      "source": [
        "from numpy.core.fromnumeric import size\n",
        "plt.hist(np.random.binomial(10000, 1/2, size=100000) - 5000, bins=100 , color = \"orange\")"
      ],
      "metadata": {
        "id": "DuF9ElYU7hUc",
        "outputId": "492d982b-5ffe-4b6f-e2ec-f030c593ca6e",
        "colab": {
          "base_uri": "https://localhost:8080/",
          "height": 803
        }
      },
      "execution_count": null,
      "outputs": [
        {
          "output_type": "execute_result",
          "data": {
            "text/plain": [
              "(array([1.000e+00, 0.000e+00, 0.000e+00, 1.000e+00, 1.000e+00, 1.000e+00,\n",
              "        2.000e+00, 2.000e+00, 1.000e+00, 4.000e+00, 5.000e+00, 5.000e+00,\n",
              "        8.000e+00, 7.000e+00, 1.000e+01, 2.300e+01, 3.500e+01, 3.000e+01,\n",
              "        6.100e+01, 6.500e+01, 1.010e+02, 7.300e+01, 1.500e+02, 1.490e+02,\n",
              "        2.170e+02, 2.350e+02, 3.520e+02, 3.480e+02, 5.170e+02, 5.140e+02,\n",
              "        7.330e+02, 7.470e+02, 9.880e+02, 9.390e+02, 1.277e+03, 1.230e+03,\n",
              "        1.719e+03, 1.518e+03, 2.172e+03, 1.856e+03, 2.574e+03, 2.208e+03,\n",
              "        3.020e+03, 2.587e+03, 3.338e+03, 2.800e+03, 3.712e+03, 3.161e+03,\n",
              "        3.870e+03, 3.237e+03, 3.963e+03, 3.219e+03, 4.056e+03, 3.070e+03,\n",
              "        3.861e+03, 2.865e+03, 3.472e+03, 2.701e+03, 3.128e+03, 2.392e+03,\n",
              "        2.702e+03, 2.002e+03, 2.336e+03, 1.657e+03, 1.908e+03, 1.335e+03,\n",
              "        1.513e+03, 1.006e+03, 1.132e+03, 7.550e+02, 8.350e+02, 5.790e+02,\n",
              "        5.970e+02, 4.040e+02, 4.160e+02, 2.760e+02, 2.510e+02, 2.010e+02,\n",
              "        1.540e+02, 1.240e+02, 1.420e+02, 8.000e+01, 7.100e+01, 3.900e+01,\n",
              "        4.600e+01, 2.000e+01, 1.800e+01, 2.000e+01, 2.400e+01, 9.000e+00,\n",
              "        3.000e+00, 4.000e+00, 3.000e+00, 1.000e+00, 1.000e+00, 0.000e+00,\n",
              "        2.000e+00, 0.000e+00, 2.000e+00, 1.000e+00]),\n",
              " array([-229. , -224.5, -220. , -215.5, -211. , -206.5, -202. , -197.5,\n",
              "        -193. , -188.5, -184. , -179.5, -175. , -170.5, -166. , -161.5,\n",
              "        -157. , -152.5, -148. , -143.5, -139. , -134.5, -130. , -125.5,\n",
              "        -121. , -116.5, -112. , -107.5, -103. ,  -98.5,  -94. ,  -89.5,\n",
              "         -85. ,  -80.5,  -76. ,  -71.5,  -67. ,  -62.5,  -58. ,  -53.5,\n",
              "         -49. ,  -44.5,  -40. ,  -35.5,  -31. ,  -26.5,  -22. ,  -17.5,\n",
              "         -13. ,   -8.5,   -4. ,    0.5,    5. ,    9.5,   14. ,   18.5,\n",
              "          23. ,   27.5,   32. ,   36.5,   41. ,   45.5,   50. ,   54.5,\n",
              "          59. ,   63.5,   68. ,   72.5,   77. ,   81.5,   86. ,   90.5,\n",
              "          95. ,   99.5,  104. ,  108.5,  113. ,  117.5,  122. ,  126.5,\n",
              "         131. ,  135.5,  140. ,  144.5,  149. ,  153.5,  158. ,  162.5,\n",
              "         167. ,  171.5,  176. ,  180.5,  185. ,  189.5,  194. ,  198.5,\n",
              "         203. ,  207.5,  212. ,  216.5,  221. ]),\n",
              " <a list of 100 Patch objects>)"
            ]
          },
          "metadata": {},
          "execution_count": 6
        },
        {
          "output_type": "display_data",
          "data": {
            "text/plain": [
              "<Figure size 432x288 with 1 Axes>"
            ],
            "image/png": "[encoded data removed]"
          },
          "metadata": {
            "needs_background": "light"
          }
        }
      ]
    },
    {
      "cell_type": "code",
      "execution_count": null,
      "metadata": {
        "id": "Poi4LKJF6sr7",
        "outputId": "2f668116-2810-4abe-c866-00a4c10c7b63",
        "colab": {
          "base_uri": "https://localhost:8080/"
        }
      },
      "outputs": [
        {
          "output_type": "execute_result",
          "data": {
            "text/plain": [
              "array([ 74,   1, -50, ..., -26, -47,   7])"
            ]
          },
          "metadata": {},
          "execution_count": 10
        }
      ],
      "source": [
        "np.random.binomial(10000, 1/2, size=100000) - 5000"
      ]
    },
    {
      "cell_type": "markdown",
      "metadata": {
        "id": "BhmoNRW96sr_"
      },
      "source": [
        "2.change the probability of jumping to right and left in a way that $P_{left} = 2 P_{right}$ and then repeat the process of Q1 again and evaluate the PDF and first four moments and cumulants. "
      ]
    },
    {
      "cell_type": "code",
      "execution_count": null,
      "metadata": {
        "id": "9sms3Rgd6ssC",
        "outputId": "48e33e2b-6bfc-4a27-d753-2895cabcff42",
        "colab": {
          "base_uri": "https://localhost:8080/",
          "height": 265
        }
      },
      "outputs": [
        {
          "output_type": "display_data",
          "data": {
            "text/plain": [
              "<Figure size 432x288 with 1 Axes>"
            ],
            "image/png": "[encoded data removed]"
          },
          "metadata": {
            "needs_background": "light"
          }
        }
      ],
      "source": [
        "import numpy as np\n",
        "\n",
        "def one_dim_random(steps, ensembles):\n",
        "    ens_list = []\n",
        "    for ens in range (ensembles):\n",
        "\n",
        "        step = np.random.choice([-1, -1, 1], size = steps )\n",
        "        endpoint = np.sum(step)\n",
        "        ens_list.append(endpoint)\n",
        "      \n",
        "    return ens_list  \n",
        "\n",
        "import matplotlib.pyplot as plt\n",
        "\n",
        "plt.hist(one_dim_random(10000, 100000), bins = 100 , color=\"green\");"
      ]
    },
    {
      "cell_type": "markdown",
      "metadata": {
        "id": "xQhZ18AF6ssE"
      },
      "source": [
        "according to your result, can you tell how the shape of PDF function related to its cumulants?"
      ]
    },
    {
      "cell_type": "code",
      "execution_count": null,
      "metadata": {
        "id": "N0X5jC8Y6ssF"
      },
      "outputs": [],
      "source": [
        "#explain here"
      ]
    },
    {
      "cell_type": "markdown",
      "metadata": {
        "id": "Afupw5-R6ssF"
      },
      "source": [
        "# Conditional Probability\n"
      ]
    },
    {
      "cell_type": "markdown",
      "metadata": {
        "id": "XbpO37Cb6ssH"
      },
      "source": [
        "Suppose you're on a game show, and you're given the choice of three doors: Behind one door is a car; behind the others, goats. You pick a door, say No. 1, and the host, who knows what's behind the doors, opens another door, say No. 3, which has a goat. He then says to you, \"Do you want to pick door No. 2?\" Is it to your advantage to switch your choice? if Yes write a it's code to tell Us why and if your answer is No code it to prove the first group they are wrong:)"
      ]
    },
    {
      "cell_type": "code",
      "execution_count": null,
      "metadata": {
        "id": "pF-FT01m6ssJ"
      },
      "outputs": [],
      "source": [
        "#code here"
      ]
    },
    {
      "cell_type": "markdown",
      "metadata": {
        "id": "-dWfNW-Z6ssK"
      },
      "source": [
        "# Centeral limit theorem"
      ]
    },
    {
      "cell_type": "markdown",
      "metadata": {
        "id": "3_gI_-ac6ssM"
      },
      "source": [
        "Choose a non-Gaussian distribution (uniform/bionomial/poission) and generate $10^5$ random variables for each of them.                                                      \n",
        "a) plot the PDF of samples you created .                                                   \n",
        "b) create $10^4$ random subset of length {2 , 5 , 10 , 20 , 100} from the first non-Gaussian distribution and caclculate mean of each subset, then plot the PDF of these means.                                                                       \n",
        "c) what do you understand form comparing the original distribution with those five?\n"
      ]
    },
    {
      "cell_type": "code",
      "execution_count": null,
      "metadata": {
        "id": "i6RIJk8m6ssP",
        "outputId": "35145ee1-6b1a-48e6-dc42-0a243421182e",
        "colab": {
          "base_uri": "https://localhost:8080/",
          "height": 942
        }
      },
      "outputs": [
        {
          "output_type": "execute_result",
          "data": {
            "text/plain": [
              "(array([ 991., 1032., 1048., 1064.,  995., 1052., 1024., 1016., 1009.,\n",
              "         960., 1058.,  990.,  954.,  953.,  958., 1018.,  993., 1061.,\n",
              "        1060., 1022.,  980.,  969., 1020.,  984., 1004.,  994., 1004.,\n",
              "         955.,  954.,  957., 1002., 1089., 1022.,  991., 1005., 1000.,\n",
              "         994.,  964.,  996.,  997.,  971., 1045.,  969.,  983.,  946.,\n",
              "         984., 1013.,  995., 1000.,  985.,  977., 1003., 1072., 1014.,\n",
              "         974.,  984.,  936., 1026., 1003., 1016.,  986.,  992., 1053.,\n",
              "         951.,  956., 1000., 1001., 1004.,  953.,  941.,  927.,  995.,\n",
              "        1023., 1024., 1032., 1006., 1014., 1005., 1027.,  982.,  971.,\n",
              "        1088., 1000., 1046., 1009., 1024., 1032., 1016., 1018.,  936.,\n",
              "        1042., 1010.,  976.,  984., 1024.,  988.,  937.,  968.,  999.,\n",
              "        1025.]),\n",
              " array([2.97795277e-06, 1.00027121e-02, 2.00024462e-02, 3.00021803e-02,\n",
              "        4.00019144e-02, 5.00016485e-02, 6.00013826e-02, 7.00011167e-02,\n",
              "        8.00008508e-02, 9.00005849e-02, 1.00000319e-01, 1.10000053e-01,\n",
              "        1.19999787e-01, 1.29999521e-01, 1.39999255e-01, 1.49998989e-01,\n",
              "        1.59998724e-01, 1.69998458e-01, 1.79998192e-01, 1.89997926e-01,\n",
              "        1.99997660e-01, 2.09997394e-01, 2.19997128e-01, 2.29996862e-01,\n",
              "        2.39996596e-01, 2.49996331e-01, 2.59996065e-01, 2.69995799e-01,\n",
              "        2.79995533e-01, 2.89995267e-01, 2.99995001e-01, 3.09994735e-01,\n",
              "        3.19994469e-01, 3.29994203e-01, 3.39993937e-01, 3.49993672e-01,\n",
              "        3.59993406e-01, 3.69993140e-01, 3.79992874e-01, 3.89992608e-01,\n",
              "        3.99992342e-01, 4.09992076e-01, 4.19991810e-01, 4.29991544e-01,\n",
              "        4.39991278e-01, 4.49991013e-01, 4.59990747e-01, 4.69990481e-01,\n",
              "        4.79990215e-01, 4.89989949e-01, 4.99989683e-01, 5.09989417e-01,\n",
              "        5.19989151e-01, 5.29988885e-01, 5.39988619e-01, 5.49988354e-01,\n",
              "        5.59988088e-01, 5.69987822e-01, 5.79987556e-01, 5.89987290e-01,\n",
              "        5.99987024e-01, 6.09986758e-01, 6.19986492e-01, 6.29986226e-01,\n",
              "        6.39985960e-01, 6.49985695e-01, 6.59985429e-01, 6.69985163e-01,\n",
              "        6.79984897e-01, 6.89984631e-01, 6.99984365e-01, 7.09984099e-01,\n",
              "        7.19983833e-01, 7.29983567e-01, 7.39983301e-01, 7.49983036e-01,\n",
              "        7.59982770e-01, 7.69982504e-01, 7.79982238e-01, 7.89981972e-01,\n",
              "        7.99981706e-01, 8.09981440e-01, 8.19981174e-01, 8.29980908e-01,\n",
              "        8.39980643e-01, 8.49980377e-01, 8.59980111e-01, 8.69979845e-01,\n",
              "        8.79979579e-01, 8.89979313e-01, 8.99979047e-01, 9.09978781e-01,\n",
              "        9.19978515e-01, 9.29978249e-01, 9.39977984e-01, 9.49977718e-01,\n",
              "        9.59977452e-01, 9.69977186e-01, 9.79976920e-01, 9.89976654e-01,\n",
              "        9.99976388e-01]),\n",
              " <a list of 100 Patch objects>)"
            ]
          },
          "metadata": {},
          "execution_count": 19
        },
        {
          "output_type": "display_data",
          "data": {
            "text/plain": [
              "<Figure size 432x288 with 1 Axes>"
            ],
            "image/png": "[encoded data removed]"
          },
          "metadata": {
            "needs_background": "light"
          }
        }
      ],
      "source": [
        "import numpy as np\n",
        "import matplotlib.pyplot as plt\n",
        "rand = np.random.uniform(0,1,10**5)\n",
        "plt.hist(rand,bins=100 , color=\"yellow\")"
      ]
    },
    {
      "cell_type": "markdown",
      "metadata": {
        "id": "P7H9TY7_6ssQ"
      },
      "source": [
        "# Poission Approximation"
      ]
    },
    {
      "cell_type": "markdown",
      "metadata": {
        "id": "0QKdXibY6ssQ"
      },
      "source": [
        "Use python libraries to generate bionomial and poission distributions for different N’s (remember $\\lambda =NP$). Over plot them for N = {5, 10, 20, 50, 100, 200, 1000}\n",
        "How does it behave as N increases? \n",
        "\n"
      ]
    },
    {
      "cell_type": "code",
      "source": [
        "#binomial\n",
        "p = 0.3 \n",
        "for n in (5, 10, 20, 50, 100, 200, 1000):\n",
        "    binomial = np.random.binomial(n, p, size=10000)\n",
        "    poisson = np.random.poisson(n*p, size=10000)\n",
        "    fig = plt.figure(n)\n",
        "    plt.hist(binomial, bins=100, label='Binomial='+str(n) ,color=\"pink\")\n",
        "    plt.hist(poisson, bins=100, label='Poisson='+str(n) , color=\"purple\")\n",
        "    plt.legend()\n",
        "plt.show()"
      ],
      "metadata": {
        "id": "IjYHHekvAVIb",
        "outputId": "a502eea8-736b-4be8-932a-a9c8e87c048b",
        "colab": {
          "base_uri": "https://localhost:8080/",
          "height": 1000
        }
      },
      "execution_count": null,
      "outputs": [
        {
          "output_type": "display_data",
          "data": {
            "text/plain": [
              "<Figure size 432x288 with 1 Axes>"
            ],
            "image/png": "[encoded data removed]"
          },
          "metadata": {
            "needs_background": "light"
          }
        },
        {
          "output_type": "display_data",
          "data": {
            "text/plain": [
              "<Figure size 432x288 with 1 Axes>"
            ],
            "image/png": "[encoded data removed]"
          },
          "metadata": {
            "needs_background": "light"
          }
        },
        {
          "output_type": "display_data",
          "data": {
            "text/plain": [
              "<Figure size 432x288 with 1 Axes>"
            ],
            "image/png": "[encoded data removed]"
          },
          "metadata": {
            "needs_background": "light"
          }
        },
        {
          "output_type": "display_data",
          "data": {
            "text/plain": [
              "<Figure size 432x288 with 1 Axes>"
            ],
            "image/png": "[encoded data removed]"
          },
          "metadata": {
            "needs_background": "light"
          }
        },
        {
          "output_type": "display_data",
          "data": {
            "text/plain": [
              "<Figure size 432x288 with 1 Axes>"
            ],
            "image/png": "[encoded data removed]"
          },
          "metadata": {
            "needs_background": "light"
          }
        },
        {
          "output_type": "display_data",
          "data": {
            "text/plain": [
              "<Figure size 432x288 with 1 Axes>"
            ],
            "image/png": "[encoded data removed]"
          },
          "metadata": {
            "needs_background": "light"
          }
        },
        {
          "output_type": "display_data",
          "data": {
            "text/plain": [
              "<Figure size 432x288 with 1 Axes>"
            ],
            "image/png": "[encoded data removed]"
          },
          "metadata": {
            "needs_background": "light"
          }
        }
      ]
    },
    {
      "cell_type": "markdown",
      "metadata": {
        "id": "k09Hm1f76ssR"
      },
      "source": [
        "# Box Muller Method"
      ]
    },
    {
      "cell_type": "markdown",
      "metadata": {
        "id": "Yy5yx33c6ssS"
      },
      "source": [
        "1- generate Normal distribution from uniform distribution (Box-Muller algorithm(https://en.wikipedia.org/wiki/Box%E2%80%93Muller_transform)- do not need to derive and prove it. the topic will be included in lectures in the following week). Normal= zero mean, unit variance    \n",
        "a)Sample many points from this distribution. plot the pdf of the sample (plot hist).             \n",
        "                              \n"
      ]
    },
    {
      "cell_type": "code",
      "execution_count": null,
      "metadata": {
        "id": "SxSr-fnh6ssS"
      },
      "outputs": [],
      "source": [
        "#code here"
      ]
    },
    {
      "cell_type": "markdown",
      "metadata": {
        "id": "b03TSd7J6ssT"
      },
      "source": [
        "b)Calculate mean of the sample. Its variance."
      ]
    },
    {
      "cell_type": "code",
      "execution_count": null,
      "metadata": {
        "id": "ubUW1VJd6ssT"
      },
      "outputs": [],
      "source": [
        "#code here"
      ]
    },
    {
      "cell_type": "markdown",
      "metadata": {
        "id": "RpmT0O3i6ssU"
      },
      "source": [
        "c)Overplot the pdf now, using this mean and variance (on the plot hist). Also use the mean and std deviation functions from python library. Do they agree?"
      ]
    },
    {
      "cell_type": "code",
      "execution_count": null,
      "metadata": {
        "id": "IjvgiDrV6ssW"
      },
      "outputs": [],
      "source": [
        "#code here"
      ]
    },
    {
      "cell_type": "markdown",
      "metadata": {
        "id": "GjYJC-Aw6ssX"
      },
      "source": [
        "d)Now that you have your Normal distribution, how can you turn it into a Gaussian distribution with  given mean and variance? For example mean=2, and std dev=4 ?   "
      ]
    },
    {
      "cell_type": "code",
      "execution_count": null,
      "metadata": {
        "id": "6HUVK1um6ssY"
      },
      "outputs": [],
      "source": [
        "#code here"
      ]
    },
    {
      "cell_type": "markdown",
      "metadata": {
        "id": "yzyqbdO66ssZ"
      },
      "source": [
        "there are two problems left, but you can choose one of them to solve.(we highly recommend you to solve both of them)"
      ]
    },
    {
      "cell_type": "markdown",
      "metadata": {
        "id": "37Uc9CGW6ssa"
      },
      "source": [
        "# Nice Matrix"
      ]
    },
    {
      "cell_type": "markdown",
      "metadata": {
        "id": "P78b1SgU6ssb"
      },
      "source": [
        "A matrix of size n$\\times$n which include numbers of {1,2,3,...,$n^2$} is called nice, if sum of all rows and columns  are the same. write a code that get n as a input and return a n$\\times$n Nice Matrix. print out the examples of Nice Matrix for n = 4,5,6"
      ]
    },
    {
      "cell_type": "code",
      "execution_count": null,
      "metadata": {
        "id": "J3Nic4Lh6ssc"
      },
      "outputs": [],
      "source": [
        "#code here"
      ]
    },
    {
      "cell_type": "markdown",
      "metadata": {
        "id": "7nPuSPnj6ssd"
      },
      "source": [
        "# Honest and Liers"
      ]
    },
    {
      "cell_type": "markdown",
      "metadata": {
        "id": "m53H8hJ06ssd"
      },
      "source": [
        "Suppose there 16 People sit around a circular table.  ٍEach claims that the two people next to him/her are liars. How many liars are there in the crowd? "
      ]
    },
    {
      "cell_type": "code",
      "execution_count": null,
      "metadata": {
        "id": "VhAMWz3f6ssd",
        "outputId": "718b37bb-d63b-4ed3-f8f8-ca650f70e150",
        "colab": {
          "base_uri": "https://localhost:8080/"
        }
      },
      "outputs": [
        {
          "output_type": "stream",
          "name": "stdout",
          "text": [
            "number of liars is 9\n"
          ]
        }
      ],
      "source": [
        "import numpy as np\n",
        "people=[]\n",
        "a=1\n",
        "b=0\n",
        "#0=liar,1=honst\n",
        "def honestliar(n):\n",
        "    for i in range(n):\n",
        "        if i==0:\n",
        "            people.append(a)\n",
        "        else:\n",
        "            if people[i-1]==b:\n",
        "                if people[i-2]==a:\n",
        "                    p=np.random.choice([0,1],1)\n",
        "                    people.append(p)\n",
        "                else:\n",
        "                    people.append(a)\n",
        "                    \n",
        "            else:\n",
        "                people.append(b)\n",
        "    return people\n",
        "x=honestliar(16).count(0)\n",
        "print(\"number of liars is\",x)"
      ]
    }
  ],
  "metadata": {
    "hide_input": false,
    "kernelspec": {
      "display_name": "Python 3",
      "language": "python",
      "name": "python3"
    },
    "language_info": {
      "codemirror_mode": {
        "name": "ipython",
        "version": 3
      },
      "file_extension": ".py",
      "mimetype": "text/x-python",
      "name": "python",
      "nbconvert_exporter": "python",
      "pygments_lexer": "ipython3",
      "version": "3.7.0"
    },
    "toc": {
      "base_numbering": 1,
      "nav_menu": {},
      "number_sections": true,
      "sideBar": true,
      "skip_h1_title": false,
      "title_cell": "Table of Contents",
      "title_sidebar": "Contents",
      "toc_cell": false,
      "toc_position": {
        "height": "calc(100% - 180px)",
        "left": "10px",
        "top": "150px",
        "width": "165px"
      },
      "toc_section_display": true,
      "toc_window_display": true
    },
    "colab": {
      "name": "Data_Analysis_HW1.ipynb",
      "provenance": []
    }
  },
  "nbformat": 4,
  "nbformat_minor": 0
}